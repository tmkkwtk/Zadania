{
 "cells": [
  {
   "cell_type": "markdown",
   "id": "4cfdb2d4-89de-49b6-b8ea-93c8249a9736",
   "metadata": {},
   "source": [
    "# Zadanie: albumy wszechczasów"
   ]
  },
  {
   "cell_type": "markdown",
   "id": "0aba76fa-204c-4655-92fe-a1d521c86118",
   "metadata": {},
   "source": [
    "### Import niezbędnych bibliotek"
   ]
  },
  {
   "cell_type": "code",
   "execution_count": 3,
   "id": "b4ddf5e8-7dc2-4571-a226-a5849a218941",
   "metadata": {},
   "outputs": [],
   "source": [
    "import numpy as np\n",
    "import pandas as pd\n"
   ]
  },
  {
   "cell_type": "code",
   "execution_count": 4,
   "id": "df23e049-2654-4c05-aec9-9593c7795d1b",
   "metadata": {},
   "outputs": [],
   "source": [
    "data = pd.read_html('https://www.officialcharts.com/chart-news/the-best-selling-albums-of-all-time-on-the-official-uk-chart__15551/', header=0)\n"
   ]
  },
  {
   "cell_type": "code",
   "execution_count": 5,
   "id": "aa9402b7-7ecc-443d-912f-07c9c70c0d13",
   "metadata": {},
   "outputs": [],
   "source": [
    "df = data[0]"
   ]
  },
  {
   "cell_type": "markdown",
   "id": "d035e7ea-b24f-4b63-9e67-5090cde08204",
   "metadata": {},
   "source": [
    "### 1. Zamień nagłówki kolumn na polskie odpowiedniki: ['TYTUŁ','ARTYSTA','ROK','MAX POZ']"
   ]
  },
  {
   "cell_type": "code",
   "execution_count": 7,
   "id": "d0d941e0-3471-45c2-a4e8-1eba25a84017",
   "metadata": {},
   "outputs": [],
   "source": [
    "df.rename(columns={'POS' : 'POZ', 'TITLE' : 'TYTUŁ', 'ARTIST' : 'ARTYSTA', 'YEAR' : 'ROK', 'HIGH POSN' : 'MAX POZ'},inplace=True)\n"
   ]
  },
  {
   "cell_type": "markdown",
   "id": "c06ea818-4d6e-46f3-bff7-b0fdc2c37d0b",
   "metadata": {},
   "source": [
    "### 2. Ilu pojedynczych artystów znajduje się na liście?"
   ]
  },
  {
   "cell_type": "code",
   "execution_count": 9,
   "id": "f194b286-4635-40da-9acc-b18d618200b6",
   "metadata": {},
   "outputs": [
    {
     "data": {
      "text/plain": [
       "47"
      ]
     },
     "execution_count": 9,
     "metadata": {},
     "output_type": "execute_result"
    }
   ],
   "source": [
    "df['ARTYSTA'].nunique()"
   ]
  },
  {
   "cell_type": "markdown",
   "id": "799166ba-a985-438e-bab1-69ed7d495f9c",
   "metadata": {},
   "source": [
    "### 3. Które zespoły pojawiają się najczęściej na liście?"
   ]
  },
  {
   "cell_type": "code",
   "execution_count": 11,
   "id": "581d5103-161b-49c1-8e2b-683002c76394",
   "metadata": {},
   "outputs": [
    {
     "data": {
      "text/plain": [
       "ARTYSTA\n",
       "COLDPLAY     3\n",
       "TAKE THAT    3\n",
       "Name: count, dtype: int64"
      ]
     },
     "execution_count": 11,
     "metadata": {},
     "output_type": "execute_result"
    }
   ],
   "source": [
    "zespoly_najczesciej = df['ARTYSTA'].value_counts()\n",
    "ile_najczesciej = zespoly_najczesciej.max()\n",
    "zespoly_najczesciej[zespoly_najczesciej == ile_najczesciej]"
   ]
  },
  {
   "cell_type": "markdown",
   "id": "7bbcf955-d793-41ba-a059-204a20ced183",
   "metadata": {},
   "source": [
    "### 4. Zmień nagłówki kolumn, tak aby każdy z nich rozpoczynał się od wielkiej litery, a pozostałe były wprowadzone małymi literami."
   ]
  },
  {
   "cell_type": "code",
   "execution_count": 13,
   "id": "82585490-4302-46c7-b132-5b7b42dd710c",
   "metadata": {},
   "outputs": [],
   "source": [
    "df.rename(str.title, axis='columns', inplace='True')"
   ]
  },
  {
   "cell_type": "markdown",
   "id": "90318743-5d68-4123-907e-0d640e8988b0",
   "metadata": {},
   "source": [
    "### 5. Wyrzuć z tabeli kolumnę ‘Max Poz’."
   ]
  },
  {
   "cell_type": "code",
   "execution_count": 15,
   "id": "d9299095-0c85-431e-8220-9f5d9040f9b4",
   "metadata": {},
   "outputs": [],
   "source": [
    "df.drop(['Max Poz'],axis=1,inplace=True)"
   ]
  },
  {
   "cell_type": "markdown",
   "id": "2bc59a33-913e-4e93-9a46-25056a0b0bdf",
   "metadata": {},
   "source": [
    "### 6. W którym roku wyszło najwięcej albumów znajdujących się na liście?"
   ]
  },
  {
   "cell_type": "code",
   "execution_count": 41,
   "id": "47a331d0-f77f-4e93-9fcf-702c76fbf154",
   "metadata": {},
   "outputs": [
    {
     "data": {
      "text/plain": [
       "Rok\n",
       "2000    4\n",
       "1987    4\n",
       "Name: Tytuł, dtype: int64"
      ]
     },
     "execution_count": 41,
     "metadata": {},
     "output_type": "execute_result"
    }
   ],
   "source": [
    "ile_w_roku = df.groupby(['Rok']).count().sort_values(by='Tytuł', ascending=False)\n",
    "ile_najwiecej = ile_w_roku['Tytuł'].max()\n",
    "ile_w_roku[ile_w_roku['Tytuł'] == ile_najwiecej]['Tytuł']"
   ]
  },
  {
   "cell_type": "markdown",
   "id": "d644729a-a183-4107-9989-8cb416c12e33",
   "metadata": {},
   "source": [
    "### 7. Ile albumów wydanych między 1960 a 1990 rokiem włącznie znajduje się na liście?"
   ]
  },
  {
   "cell_type": "code",
   "execution_count": 62,
   "id": "1938895e-780b-4c15-ada2-855f0d2a3182",
   "metadata": {},
   "outputs": [
    {
     "data": {
      "text/plain": [
       "22"
      ]
     },
     "execution_count": 62,
     "metadata": {},
     "output_type": "execute_result"
    }
   ],
   "source": [
    "df[(df['Rok'] >= 1960) & (df['Rok'] <= 1990)]['Tytuł'].count()"
   ]
  },
  {
   "cell_type": "markdown",
   "id": "d53bb581-a976-44ea-b391-78d166558dd2",
   "metadata": {},
   "source": [
    "### 8. W którym roku wydany został najmłodszy album na liście?"
   ]
  },
  {
   "cell_type": "code",
   "execution_count": 68,
   "id": "6a51ac96-8586-4433-a081-a6301b8d6b75",
   "metadata": {},
   "outputs": [
    {
     "data": {
      "text/plain": [
       "2015"
      ]
     },
     "execution_count": 68,
     "metadata": {},
     "output_type": "execute_result"
    }
   ],
   "source": [
    "df['Rok'].max()"
   ]
  },
  {
   "cell_type": "markdown",
   "id": "1c69f22b-1904-4286-b4d7-21feaa18a8ec",
   "metadata": {},
   "source": [
    "### 9. Przygotuj listę najwcześniej wydanych albumów każdego artysty, który znalazł się na liście."
   ]
  },
  {
   "cell_type": "code",
   "execution_count": 141,
   "id": "a361c65a-7ad8-41a5-b9cd-32063d7a39c0",
   "metadata": {},
   "outputs": [],
   "source": [
    "najwczesniej_wydane = df.groupby(pd.Grouper(key='Artysta')).agg({'Rok':'min','Tytuł':'max'}).sort_values(by='Artysta')"
   ]
  },
  {
   "cell_type": "markdown",
   "id": "a911cb02-74fe-4403-b1cf-e59c1f85e2c2",
   "metadata": {},
   "source": [
    "### 10. Listę zapisz do pliku csv."
   ]
  },
  {
   "cell_type": "code",
   "execution_count": 145,
   "id": "1f665eaa-1712-4f9b-918e-a2d2ab88297b",
   "metadata": {},
   "outputs": [],
   "source": [
    "najwczesniej_wydane.to_csv('Albumy_Wszechczasow.csv')"
   ]
  }
 ],
 "metadata": {
  "kernelspec": {
   "display_name": "Python 3 (ipykernel)",
   "language": "python",
   "name": "python3"
  },
  "language_info": {
   "codemirror_mode": {
    "name": "ipython",
    "version": 3
   },
   "file_extension": ".py",
   "mimetype": "text/x-python",
   "name": "python",
   "nbconvert_exporter": "python",
   "pygments_lexer": "ipython3",
   "version": "3.12.7"
  }
 },
 "nbformat": 4,
 "nbformat_minor": 5
}
