{
 "cells": [
  {
   "cell_type": "markdown",
   "id": "8620935a-de00-4f48-b783-77ce73a356c0",
   "metadata": {},
   "source": [
    "# Zadanie: analiza statystyczna"
   ]
  },
  {
   "cell_type": "code",
   "execution_count": 2,
   "id": "f75ff993-4c01-4aa3-b8db-8721f68116ca",
   "metadata": {},
   "outputs": [],
   "source": [
    "# manipulacja danymi\n",
    "import numpy as np\n",
    "import pandas as pd\n",
    "\n",
    "# wizualizacja danych\n",
    "import matplotlib.pyplot as plt\n",
    "import seaborn as sns\n",
    "\n",
    "# statystyczna analiza danych\n",
    "from scipy import stats\n",
    "\n",
    "# przygotowanie danych\n",
    "from sklearn.preprocessing import StandardScaler, MinMaxScaler\n",
    "dataset = pd.read_csv('titanic.csv')"
   ]
  },
  {
   "cell_type": "code",
   "execution_count": 3,
   "id": "c21ab64b-b201-490a-8476-66daf3bfbf22",
   "metadata": {},
   "outputs": [],
   "source": [
    "# wyciągnięcie cen biletów do zmiennej\n",
    "fare_values = dataset.loc[dataset['Fare'].notnull(), 'Fare'].values"
   ]
  },
  {
   "cell_type": "code",
   "execution_count": 4,
   "id": "0a057ef5-ba0d-4c0e-af86-12bc990a5ece",
   "metadata": {},
   "outputs": [],
   "source": [
    "mean_fare = np.round(np.mean(fare_values),2) #średnia\n",
    "median_fare = np.round(np.median(fare_values),2) #mediana\n",
    "mode_fare = np.round(stats.mode(fare_values),2) #moda\n",
    "q0 = np.round(np.quantile(fare_values, 0.0),2) #wartosc minimalna\n",
    "q1 = np.round(np.quantile(fare_values, 0.25),2) #1 kwartyl\n",
    "q3 = np.round(np.quantile(fare_values, 0.75),2) #3 kwartyl\n",
    "q4 = np.round(np.quantile(fare_values, 1.0),2) #4 kwartyl\n",
    "range_fare = max(fare_values) - min(fare_values) #rozstęp\n",
    "iqr = q3 - q1 #rozstęp międzykwartylowy\n",
    "variance_fare = np.round(np.var(fare_values, ddof=1),2) #wariancja\n",
    "standard_deviation_fare = np.round(np.std(fare_values, ddof=1),2) #odchylenie standardowe"
   ]
  },
  {
   "cell_type": "code",
   "execution_count": null,
   "id": "cba40c0b-a773-4ed9-afad-c0c7dfa3ec81",
   "metadata": {},
   "outputs": [],
   "source": [
    "plt.hist(fare_values, bins=20)\n",
    "plt.axvline(x = mean_fare, color='red', label = 'Średnia')\n",
    "plt.axvline(x = median_fare, color='green', label = 'Mediana')\n",
    "plt.axvline(x = mode_fare[0], color='orange', label = 'Moda')\n",
    "plt.axvline(x = q0, color='black', label = 'Min')\n",
    "plt.axvline(x = q1, color='black', label = 'Q1')\n",
    "plt.axvline(x = q3, color='black', label = 'Q3')\n",
    "plt.axvline(x = q4, color='black', label = 'Max')\n",
    "plt.legend(loc='upper right')\n",
    "plt.show()\n",
    "plt.boxplot(fare_values)\n",
    "plt.show()"
   ]
  },
  {
   "cell_type": "code",
   "execution_count": null,
   "id": "fd57da22-de05-4ed9-a54b-3269b54dddec",
   "metadata": {},
   "outputs": [],
   "source": [
    "print(f'Średnia cena biletu wynosiła {mean_fare}.')\n",
    "print(f'Mediana, czyli wartość środkowa cen biletów wynosiła {median_fare}.')\n",
    "print(f'Najczęściej występującą ceną biletu było {mode_fare[0]}.')\n",
    "print(f'Najniższą ceną biletu było {q0}, a najwyższą {q4}.')\n",
    "print(f'25% pasażerów kupiło bilet za mniej niż {q1}, a 25% pasażerów kupiło bilet za więcej niż {q3}.')\n",
    "print(f'Rozkład cen biletów jest pozytywnie skośny.')\n",
    "print(f'Odchylenie standardowe wynosi {standard_deviation_fare}, co oznacza, że ceny biletów przeciętnie o tyle różnią się od siebie. Statystyka to potwierdza, że jest spora liczba bardzo drogich biletów.')"
   ]
  },
  {
   "cell_type": "code",
   "execution_count": null,
   "id": "70066acf-83f7-4476-8d47-898544335a4a",
   "metadata": {},
   "outputs": [],
   "source": []
  }
 ],
 "metadata": {
  "kernelspec": {
   "display_name": "Python 3 (ipykernel)",
   "language": "python",
   "name": "python3"
  },
  "language_info": {
   "codemirror_mode": {
    "name": "ipython",
    "version": 3
   },
   "file_extension": ".py",
   "mimetype": "text/x-python",
   "name": "python",
   "nbconvert_exporter": "python",
   "pygments_lexer": "ipython3",
   "version": "3.12.7"
  }
 },
 "nbformat": 4,
 "nbformat_minor": 5
}
